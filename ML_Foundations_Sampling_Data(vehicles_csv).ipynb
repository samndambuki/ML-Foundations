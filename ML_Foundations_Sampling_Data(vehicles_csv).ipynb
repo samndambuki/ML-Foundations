{
  "nbformat": 4,
  "nbformat_minor": 0,
  "metadata": {
    "colab": {
      "provenance": [],
      "mount_file_id": "1WfxRXdHFU_81KcKIOhLCnarJ16vH6nJ8",
      "authorship_tag": "ABX9TyONVbhEYxQmvsAFGYhjaAEi",
      "include_colab_link": true
    },
    "kernelspec": {
      "name": "python3",
      "display_name": "Python 3"
    },
    "language_info": {
      "name": "python"
    }
  },
  "cells": [
    {
      "cell_type": "markdown",
      "metadata": {
        "id": "view-in-github",
        "colab_type": "text"
      },
      "source": [
        "<a href=\"https://colab.research.google.com/github/samndambuki/ML-Foundations/blob/main/ML_Foundations_Sampling_Data(vehicles_csv).ipynb\" target=\"_parent\"><img src=\"https://colab.research.google.com/assets/colab-badge.svg\" alt=\"Open In Colab\"/></a>"
      ]
    },
    {
      "cell_type": "code",
      "execution_count": 23,
      "metadata": {
        "colab": {
          "base_uri": "https://localhost:8080/",
          "height": 424
        },
        "id": "QcUiFn739jNE",
        "outputId": "1f81ca3b-028a-4bf9-d6a7-63056daccf45"
      },
      "outputs": [
        {
          "output_type": "execute_result",
          "data": {
            "text/plain": [
              "       citympg  cylinders  displacement             drive  highwaympg  \\\n",
              "0         14.0          6           4.1     2-Wheel Drive        19.0   \n",
              "1         14.0          8           5.0     2-Wheel Drive        20.0   \n",
              "2         18.0          8           5.7     2-Wheel Drive        26.0   \n",
              "3         21.0          6           4.3  Rear-Wheel Drive        31.0   \n",
              "4         14.0          8           4.1  Rear-Wheel Drive        19.0   \n",
              "...        ...        ...           ...               ...         ...   \n",
              "36974     17.0          8           4.7  Rear-Wheel Drive        25.0   \n",
              "36975     16.0          8           6.2  Rear-Wheel Drive        25.0   \n",
              "36976     15.0          8           6.2  Rear-Wheel Drive        22.0   \n",
              "36977     12.0         12           6.5  Rear-Wheel Drive        16.0   \n",
              "36978     13.0         12           6.0  Rear-Wheel Drive        22.0   \n",
              "\n",
              "                make                    model        class  year  \\\n",
              "0              Buick      Electra/Park Avenue   Large Cars  1984   \n",
              "1              Buick      Electra/Park Avenue   Large Cars  1984   \n",
              "2              Buick      Electra/Park Avenue   Large Cars  1984   \n",
              "3           Cadillac  Fleetwood/DeVille (FWD)   Large Cars  1984   \n",
              "4           Cadillac   Brougham/DeVille (RWD)   Large Cars  1984   \n",
              "...              ...                      ...          ...   ...   \n",
              "36974  Mercedes-Benz                    SL550  Two Seaters  2018   \n",
              "36975      Chevrolet                 Corvette  Two Seaters  2018   \n",
              "36976      Chevrolet                 Corvette  Two Seaters  2018   \n",
              "36977        Ferrari            812 Superfast  Two Seaters  2018   \n",
              "36978  Mercedes-Benz                 AMG SL65  Two Seaters  2018   \n",
              "\n",
              "      transmissiontype  transmissionspeeds  co2emissions  \n",
              "0            Automatic                   4    555.437500  \n",
              "1            Automatic                   4    555.437500  \n",
              "2            Automatic                   4    484.761905  \n",
              "3            Automatic                   4    424.166667  \n",
              "4            Automatic                   4    555.437500  \n",
              "...                ...                 ...           ...  \n",
              "36974        Automatic                   9    442.000000  \n",
              "36975           Manual                   7    466.000000  \n",
              "36976           Manual                   7    503.000000  \n",
              "36977        Automatic                   7    661.000000  \n",
              "36978        Automatic                   7    546.000000  \n",
              "\n",
              "[36979 rows x 12 columns]"
            ],
            "text/html": [
              "\n",
              "  <div id=\"df-9acafc90-235a-4728-8cfe-92cabd741e8f\">\n",
              "    <div class=\"colab-df-container\">\n",
              "      <div>\n",
              "<style scoped>\n",
              "    .dataframe tbody tr th:only-of-type {\n",
              "        vertical-align: middle;\n",
              "    }\n",
              "\n",
              "    .dataframe tbody tr th {\n",
              "        vertical-align: top;\n",
              "    }\n",
              "\n",
              "    .dataframe thead th {\n",
              "        text-align: right;\n",
              "    }\n",
              "</style>\n",
              "<table border=\"1\" class=\"dataframe\">\n",
              "  <thead>\n",
              "    <tr style=\"text-align: right;\">\n",
              "      <th></th>\n",
              "      <th>citympg</th>\n",
              "      <th>cylinders</th>\n",
              "      <th>displacement</th>\n",
              "      <th>drive</th>\n",
              "      <th>highwaympg</th>\n",
              "      <th>make</th>\n",
              "      <th>model</th>\n",
              "      <th>class</th>\n",
              "      <th>year</th>\n",
              "      <th>transmissiontype</th>\n",
              "      <th>transmissionspeeds</th>\n",
              "      <th>co2emissions</th>\n",
              "    </tr>\n",
              "  </thead>\n",
              "  <tbody>\n",
              "    <tr>\n",
              "      <th>0</th>\n",
              "      <td>14.0</td>\n",
              "      <td>6</td>\n",
              "      <td>4.1</td>\n",
              "      <td>2-Wheel Drive</td>\n",
              "      <td>19.0</td>\n",
              "      <td>Buick</td>\n",
              "      <td>Electra/Park Avenue</td>\n",
              "      <td>Large Cars</td>\n",
              "      <td>1984</td>\n",
              "      <td>Automatic</td>\n",
              "      <td>4</td>\n",
              "      <td>555.437500</td>\n",
              "    </tr>\n",
              "    <tr>\n",
              "      <th>1</th>\n",
              "      <td>14.0</td>\n",
              "      <td>8</td>\n",
              "      <td>5.0</td>\n",
              "      <td>2-Wheel Drive</td>\n",
              "      <td>20.0</td>\n",
              "      <td>Buick</td>\n",
              "      <td>Electra/Park Avenue</td>\n",
              "      <td>Large Cars</td>\n",
              "      <td>1984</td>\n",
              "      <td>Automatic</td>\n",
              "      <td>4</td>\n",
              "      <td>555.437500</td>\n",
              "    </tr>\n",
              "    <tr>\n",
              "      <th>2</th>\n",
              "      <td>18.0</td>\n",
              "      <td>8</td>\n",
              "      <td>5.7</td>\n",
              "      <td>2-Wheel Drive</td>\n",
              "      <td>26.0</td>\n",
              "      <td>Buick</td>\n",
              "      <td>Electra/Park Avenue</td>\n",
              "      <td>Large Cars</td>\n",
              "      <td>1984</td>\n",
              "      <td>Automatic</td>\n",
              "      <td>4</td>\n",
              "      <td>484.761905</td>\n",
              "    </tr>\n",
              "    <tr>\n",
              "      <th>3</th>\n",
              "      <td>21.0</td>\n",
              "      <td>6</td>\n",
              "      <td>4.3</td>\n",
              "      <td>Rear-Wheel Drive</td>\n",
              "      <td>31.0</td>\n",
              "      <td>Cadillac</td>\n",
              "      <td>Fleetwood/DeVille (FWD)</td>\n",
              "      <td>Large Cars</td>\n",
              "      <td>1984</td>\n",
              "      <td>Automatic</td>\n",
              "      <td>4</td>\n",
              "      <td>424.166667</td>\n",
              "    </tr>\n",
              "    <tr>\n",
              "      <th>4</th>\n",
              "      <td>14.0</td>\n",
              "      <td>8</td>\n",
              "      <td>4.1</td>\n",
              "      <td>Rear-Wheel Drive</td>\n",
              "      <td>19.0</td>\n",
              "      <td>Cadillac</td>\n",
              "      <td>Brougham/DeVille (RWD)</td>\n",
              "      <td>Large Cars</td>\n",
              "      <td>1984</td>\n",
              "      <td>Automatic</td>\n",
              "      <td>4</td>\n",
              "      <td>555.437500</td>\n",
              "    </tr>\n",
              "    <tr>\n",
              "      <th>...</th>\n",
              "      <td>...</td>\n",
              "      <td>...</td>\n",
              "      <td>...</td>\n",
              "      <td>...</td>\n",
              "      <td>...</td>\n",
              "      <td>...</td>\n",
              "      <td>...</td>\n",
              "      <td>...</td>\n",
              "      <td>...</td>\n",
              "      <td>...</td>\n",
              "      <td>...</td>\n",
              "      <td>...</td>\n",
              "    </tr>\n",
              "    <tr>\n",
              "      <th>36974</th>\n",
              "      <td>17.0</td>\n",
              "      <td>8</td>\n",
              "      <td>4.7</td>\n",
              "      <td>Rear-Wheel Drive</td>\n",
              "      <td>25.0</td>\n",
              "      <td>Mercedes-Benz</td>\n",
              "      <td>SL550</td>\n",
              "      <td>Two Seaters</td>\n",
              "      <td>2018</td>\n",
              "      <td>Automatic</td>\n",
              "      <td>9</td>\n",
              "      <td>442.000000</td>\n",
              "    </tr>\n",
              "    <tr>\n",
              "      <th>36975</th>\n",
              "      <td>16.0</td>\n",
              "      <td>8</td>\n",
              "      <td>6.2</td>\n",
              "      <td>Rear-Wheel Drive</td>\n",
              "      <td>25.0</td>\n",
              "      <td>Chevrolet</td>\n",
              "      <td>Corvette</td>\n",
              "      <td>Two Seaters</td>\n",
              "      <td>2018</td>\n",
              "      <td>Manual</td>\n",
              "      <td>7</td>\n",
              "      <td>466.000000</td>\n",
              "    </tr>\n",
              "    <tr>\n",
              "      <th>36976</th>\n",
              "      <td>15.0</td>\n",
              "      <td>8</td>\n",
              "      <td>6.2</td>\n",
              "      <td>Rear-Wheel Drive</td>\n",
              "      <td>22.0</td>\n",
              "      <td>Chevrolet</td>\n",
              "      <td>Corvette</td>\n",
              "      <td>Two Seaters</td>\n",
              "      <td>2018</td>\n",
              "      <td>Manual</td>\n",
              "      <td>7</td>\n",
              "      <td>503.000000</td>\n",
              "    </tr>\n",
              "    <tr>\n",
              "      <th>36977</th>\n",
              "      <td>12.0</td>\n",
              "      <td>12</td>\n",
              "      <td>6.5</td>\n",
              "      <td>Rear-Wheel Drive</td>\n",
              "      <td>16.0</td>\n",
              "      <td>Ferrari</td>\n",
              "      <td>812 Superfast</td>\n",
              "      <td>Two Seaters</td>\n",
              "      <td>2018</td>\n",
              "      <td>Automatic</td>\n",
              "      <td>7</td>\n",
              "      <td>661.000000</td>\n",
              "    </tr>\n",
              "    <tr>\n",
              "      <th>36978</th>\n",
              "      <td>13.0</td>\n",
              "      <td>12</td>\n",
              "      <td>6.0</td>\n",
              "      <td>Rear-Wheel Drive</td>\n",
              "      <td>22.0</td>\n",
              "      <td>Mercedes-Benz</td>\n",
              "      <td>AMG SL65</td>\n",
              "      <td>Two Seaters</td>\n",
              "      <td>2018</td>\n",
              "      <td>Automatic</td>\n",
              "      <td>7</td>\n",
              "      <td>546.000000</td>\n",
              "    </tr>\n",
              "  </tbody>\n",
              "</table>\n",
              "<p>36979 rows × 12 columns</p>\n",
              "</div>\n",
              "      <button class=\"colab-df-convert\" onclick=\"convertToInteractive('df-9acafc90-235a-4728-8cfe-92cabd741e8f')\"\n",
              "              title=\"Convert this dataframe to an interactive table.\"\n",
              "              style=\"display:none;\">\n",
              "        \n",
              "  <svg xmlns=\"http://www.w3.org/2000/svg\" height=\"24px\"viewBox=\"0 0 24 24\"\n",
              "       width=\"24px\">\n",
              "    <path d=\"M0 0h24v24H0V0z\" fill=\"none\"/>\n",
              "    <path d=\"M18.56 5.44l.94 2.06.94-2.06 2.06-.94-2.06-.94-.94-2.06-.94 2.06-2.06.94zm-11 1L8.5 8.5l.94-2.06 2.06-.94-2.06-.94L8.5 2.5l-.94 2.06-2.06.94zm10 10l.94 2.06.94-2.06 2.06-.94-2.06-.94-.94-2.06-.94 2.06-2.06.94z\"/><path d=\"M17.41 7.96l-1.37-1.37c-.4-.4-.92-.59-1.43-.59-.52 0-1.04.2-1.43.59L10.3 9.45l-7.72 7.72c-.78.78-.78 2.05 0 2.83L4 21.41c.39.39.9.59 1.41.59.51 0 1.02-.2 1.41-.59l7.78-7.78 2.81-2.81c.8-.78.8-2.07 0-2.86zM5.41 20L4 18.59l7.72-7.72 1.47 1.35L5.41 20z\"/>\n",
              "  </svg>\n",
              "      </button>\n",
              "      \n",
              "  <style>\n",
              "    .colab-df-container {\n",
              "      display:flex;\n",
              "      flex-wrap:wrap;\n",
              "      gap: 12px;\n",
              "    }\n",
              "\n",
              "    .colab-df-convert {\n",
              "      background-color: #E8F0FE;\n",
              "      border: none;\n",
              "      border-radius: 50%;\n",
              "      cursor: pointer;\n",
              "      display: none;\n",
              "      fill: #1967D2;\n",
              "      height: 32px;\n",
              "      padding: 0 0 0 0;\n",
              "      width: 32px;\n",
              "    }\n",
              "\n",
              "    .colab-df-convert:hover {\n",
              "      background-color: #E2EBFA;\n",
              "      box-shadow: 0px 1px 2px rgba(60, 64, 67, 0.3), 0px 1px 3px 1px rgba(60, 64, 67, 0.15);\n",
              "      fill: #174EA6;\n",
              "    }\n",
              "\n",
              "    [theme=dark] .colab-df-convert {\n",
              "      background-color: #3B4455;\n",
              "      fill: #D2E3FC;\n",
              "    }\n",
              "\n",
              "    [theme=dark] .colab-df-convert:hover {\n",
              "      background-color: #434B5C;\n",
              "      box-shadow: 0px 1px 3px 1px rgba(0, 0, 0, 0.15);\n",
              "      filter: drop-shadow(0px 1px 2px rgba(0, 0, 0, 0.3));\n",
              "      fill: #FFFFFF;\n",
              "    }\n",
              "  </style>\n",
              "\n",
              "      <script>\n",
              "        const buttonEl =\n",
              "          document.querySelector('#df-9acafc90-235a-4728-8cfe-92cabd741e8f button.colab-df-convert');\n",
              "        buttonEl.style.display =\n",
              "          google.colab.kernel.accessAllowed ? 'block' : 'none';\n",
              "\n",
              "        async function convertToInteractive(key) {\n",
              "          const element = document.querySelector('#df-9acafc90-235a-4728-8cfe-92cabd741e8f');\n",
              "          const dataTable =\n",
              "            await google.colab.kernel.invokeFunction('convertToInteractive',\n",
              "                                                     [key], {});\n",
              "          if (!dataTable) return;\n",
              "\n",
              "          const docLinkHtml = 'Like what you see? Visit the ' +\n",
              "            '<a target=\"_blank\" href=https://colab.research.google.com/notebooks/data_table.ipynb>data table notebook</a>'\n",
              "            + ' to learn more about interactive tables.';\n",
              "          element.innerHTML = '';\n",
              "          dataTable['output_type'] = 'display_data';\n",
              "          await google.colab.output.renderOutput(dataTable, element);\n",
              "          const docLink = document.createElement('div');\n",
              "          docLink.innerHTML = docLinkHtml;\n",
              "          element.appendChild(docLink);\n",
              "        }\n",
              "      </script>\n",
              "    </div>\n",
              "  </div>\n",
              "  "
            ]
          },
          "metadata": {},
          "execution_count": 23
        }
      ],
      "source": [
        "import pandas as pd\n",
        "vehicles = pd.read_csv(\"/content/drive/MyDrive/vehicles.csv\")\n",
        "vehicles"
      ]
    },
    {
      "cell_type": "code",
      "source": [
        "response = 'co2emissions'\n",
        "y = vehicles[[response]]\n",
        "y.head()"
      ],
      "metadata": {
        "colab": {
          "base_uri": "https://localhost:8080/",
          "height": 206
        },
        "id": "RhK1TDFn-RfK",
        "outputId": "5cb2181e-4414-4073-9e45-55fb3d62c353"
      },
      "execution_count": 24,
      "outputs": [
        {
          "output_type": "execute_result",
          "data": {
            "text/plain": [
              "   co2emissions\n",
              "0    555.437500\n",
              "1    555.437500\n",
              "2    484.761905\n",
              "3    424.166667\n",
              "4    555.437500"
            ],
            "text/html": [
              "\n",
              "  <div id=\"df-5ae5f0e8-008f-4bf9-a1ec-9105830a7339\">\n",
              "    <div class=\"colab-df-container\">\n",
              "      <div>\n",
              "<style scoped>\n",
              "    .dataframe tbody tr th:only-of-type {\n",
              "        vertical-align: middle;\n",
              "    }\n",
              "\n",
              "    .dataframe tbody tr th {\n",
              "        vertical-align: top;\n",
              "    }\n",
              "\n",
              "    .dataframe thead th {\n",
              "        text-align: right;\n",
              "    }\n",
              "</style>\n",
              "<table border=\"1\" class=\"dataframe\">\n",
              "  <thead>\n",
              "    <tr style=\"text-align: right;\">\n",
              "      <th></th>\n",
              "      <th>co2emissions</th>\n",
              "    </tr>\n",
              "  </thead>\n",
              "  <tbody>\n",
              "    <tr>\n",
              "      <th>0</th>\n",
              "      <td>555.437500</td>\n",
              "    </tr>\n",
              "    <tr>\n",
              "      <th>1</th>\n",
              "      <td>555.437500</td>\n",
              "    </tr>\n",
              "    <tr>\n",
              "      <th>2</th>\n",
              "      <td>484.761905</td>\n",
              "    </tr>\n",
              "    <tr>\n",
              "      <th>3</th>\n",
              "      <td>424.166667</td>\n",
              "    </tr>\n",
              "    <tr>\n",
              "      <th>4</th>\n",
              "      <td>555.437500</td>\n",
              "    </tr>\n",
              "  </tbody>\n",
              "</table>\n",
              "</div>\n",
              "      <button class=\"colab-df-convert\" onclick=\"convertToInteractive('df-5ae5f0e8-008f-4bf9-a1ec-9105830a7339')\"\n",
              "              title=\"Convert this dataframe to an interactive table.\"\n",
              "              style=\"display:none;\">\n",
              "        \n",
              "  <svg xmlns=\"http://www.w3.org/2000/svg\" height=\"24px\"viewBox=\"0 0 24 24\"\n",
              "       width=\"24px\">\n",
              "    <path d=\"M0 0h24v24H0V0z\" fill=\"none\"/>\n",
              "    <path d=\"M18.56 5.44l.94 2.06.94-2.06 2.06-.94-2.06-.94-.94-2.06-.94 2.06-2.06.94zm-11 1L8.5 8.5l.94-2.06 2.06-.94-2.06-.94L8.5 2.5l-.94 2.06-2.06.94zm10 10l.94 2.06.94-2.06 2.06-.94-2.06-.94-.94-2.06-.94 2.06-2.06.94z\"/><path d=\"M17.41 7.96l-1.37-1.37c-.4-.4-.92-.59-1.43-.59-.52 0-1.04.2-1.43.59L10.3 9.45l-7.72 7.72c-.78.78-.78 2.05 0 2.83L4 21.41c.39.39.9.59 1.41.59.51 0 1.02-.2 1.41-.59l7.78-7.78 2.81-2.81c.8-.78.8-2.07 0-2.86zM5.41 20L4 18.59l7.72-7.72 1.47 1.35L5.41 20z\"/>\n",
              "  </svg>\n",
              "      </button>\n",
              "      \n",
              "  <style>\n",
              "    .colab-df-container {\n",
              "      display:flex;\n",
              "      flex-wrap:wrap;\n",
              "      gap: 12px;\n",
              "    }\n",
              "\n",
              "    .colab-df-convert {\n",
              "      background-color: #E8F0FE;\n",
              "      border: none;\n",
              "      border-radius: 50%;\n",
              "      cursor: pointer;\n",
              "      display: none;\n",
              "      fill: #1967D2;\n",
              "      height: 32px;\n",
              "      padding: 0 0 0 0;\n",
              "      width: 32px;\n",
              "    }\n",
              "\n",
              "    .colab-df-convert:hover {\n",
              "      background-color: #E2EBFA;\n",
              "      box-shadow: 0px 1px 2px rgba(60, 64, 67, 0.3), 0px 1px 3px 1px rgba(60, 64, 67, 0.15);\n",
              "      fill: #174EA6;\n",
              "    }\n",
              "\n",
              "    [theme=dark] .colab-df-convert {\n",
              "      background-color: #3B4455;\n",
              "      fill: #D2E3FC;\n",
              "    }\n",
              "\n",
              "    [theme=dark] .colab-df-convert:hover {\n",
              "      background-color: #434B5C;\n",
              "      box-shadow: 0px 1px 3px 1px rgba(0, 0, 0, 0.15);\n",
              "      filter: drop-shadow(0px 1px 2px rgba(0, 0, 0, 0.3));\n",
              "      fill: #FFFFFF;\n",
              "    }\n",
              "  </style>\n",
              "\n",
              "      <script>\n",
              "        const buttonEl =\n",
              "          document.querySelector('#df-5ae5f0e8-008f-4bf9-a1ec-9105830a7339 button.colab-df-convert');\n",
              "        buttonEl.style.display =\n",
              "          google.colab.kernel.accessAllowed ? 'block' : 'none';\n",
              "\n",
              "        async function convertToInteractive(key) {\n",
              "          const element = document.querySelector('#df-5ae5f0e8-008f-4bf9-a1ec-9105830a7339');\n",
              "          const dataTable =\n",
              "            await google.colab.kernel.invokeFunction('convertToInteractive',\n",
              "                                                     [key], {});\n",
              "          if (!dataTable) return;\n",
              "\n",
              "          const docLinkHtml = 'Like what you see? Visit the ' +\n",
              "            '<a target=\"_blank\" href=https://colab.research.google.com/notebooks/data_table.ipynb>data table notebook</a>'\n",
              "            + ' to learn more about interactive tables.';\n",
              "          element.innerHTML = '';\n",
              "          dataTable['output_type'] = 'display_data';\n",
              "          await google.colab.output.renderOutput(dataTable, element);\n",
              "          const docLink = document.createElement('div');\n",
              "          docLink.innerHTML = docLinkHtml;\n",
              "          element.appendChild(docLink);\n",
              "        }\n",
              "      </script>\n",
              "    </div>\n",
              "  </div>\n",
              "  "
            ]
          },
          "metadata": {},
          "execution_count": 24
        }
      ]
    },
    {
      "cell_type": "code",
      "source": [
        "predictors = list(vehicles.columns)\n",
        "predictors"
      ],
      "metadata": {
        "colab": {
          "base_uri": "https://localhost:8080/"
        },
        "id": "k49mZMlc-tdk",
        "outputId": "8b233307-1368-42f1-c359-df33d3aa6a83"
      },
      "execution_count": 25,
      "outputs": [
        {
          "output_type": "execute_result",
          "data": {
            "text/plain": [
              "['citympg',\n",
              " 'cylinders',\n",
              " 'displacement',\n",
              " 'drive',\n",
              " 'highwaympg',\n",
              " 'make',\n",
              " 'model',\n",
              " 'class',\n",
              " 'year',\n",
              " 'transmissiontype',\n",
              " 'transmissionspeeds',\n",
              " 'co2emissions']"
            ]
          },
          "metadata": {},
          "execution_count": 25
        }
      ]
    },
    {
      "cell_type": "code",
      "source": [
        "predictors.remove(response)\n",
        "predictors"
      ],
      "metadata": {
        "colab": {
          "base_uri": "https://localhost:8080/"
        },
        "id": "CCllFDGI_CbO",
        "outputId": "9b8ca26f-49ce-47d2-cb4d-0554485ee544"
      },
      "execution_count": 26,
      "outputs": [
        {
          "output_type": "execute_result",
          "data": {
            "text/plain": [
              "['citympg',\n",
              " 'cylinders',\n",
              " 'displacement',\n",
              " 'drive',\n",
              " 'highwaympg',\n",
              " 'make',\n",
              " 'model',\n",
              " 'class',\n",
              " 'year',\n",
              " 'transmissiontype',\n",
              " 'transmissionspeeds']"
            ]
          },
          "metadata": {},
          "execution_count": 26
        }
      ]
    },
    {
      "cell_type": "code",
      "source": [
        "x = vehicles[predictors]\n",
        "x.head()\n"
      ],
      "metadata": {
        "colab": {
          "base_uri": "https://localhost:8080/",
          "height": 206
        },
        "id": "hCbtqRlSBOeE",
        "outputId": "b74e2aff-2685-4222-ff85-18386990c486"
      },
      "execution_count": 27,
      "outputs": [
        {
          "output_type": "execute_result",
          "data": {
            "text/plain": [
              "   citympg  cylinders  displacement             drive  highwaympg      make  \\\n",
              "0     14.0          6           4.1     2-Wheel Drive        19.0     Buick   \n",
              "1     14.0          8           5.0     2-Wheel Drive        20.0     Buick   \n",
              "2     18.0          8           5.7     2-Wheel Drive        26.0     Buick   \n",
              "3     21.0          6           4.3  Rear-Wheel Drive        31.0  Cadillac   \n",
              "4     14.0          8           4.1  Rear-Wheel Drive        19.0  Cadillac   \n",
              "\n",
              "                     model       class  year transmissiontype  \\\n",
              "0      Electra/Park Avenue  Large Cars  1984        Automatic   \n",
              "1      Electra/Park Avenue  Large Cars  1984        Automatic   \n",
              "2      Electra/Park Avenue  Large Cars  1984        Automatic   \n",
              "3  Fleetwood/DeVille (FWD)  Large Cars  1984        Automatic   \n",
              "4   Brougham/DeVille (RWD)  Large Cars  1984        Automatic   \n",
              "\n",
              "   transmissionspeeds  \n",
              "0                   4  \n",
              "1                   4  \n",
              "2                   4  \n",
              "3                   4  \n",
              "4                   4  "
            ],
            "text/html": [
              "\n",
              "  <div id=\"df-8fba8dbd-95fb-4a08-8822-13a8e45146b6\">\n",
              "    <div class=\"colab-df-container\">\n",
              "      <div>\n",
              "<style scoped>\n",
              "    .dataframe tbody tr th:only-of-type {\n",
              "        vertical-align: middle;\n",
              "    }\n",
              "\n",
              "    .dataframe tbody tr th {\n",
              "        vertical-align: top;\n",
              "    }\n",
              "\n",
              "    .dataframe thead th {\n",
              "        text-align: right;\n",
              "    }\n",
              "</style>\n",
              "<table border=\"1\" class=\"dataframe\">\n",
              "  <thead>\n",
              "    <tr style=\"text-align: right;\">\n",
              "      <th></th>\n",
              "      <th>citympg</th>\n",
              "      <th>cylinders</th>\n",
              "      <th>displacement</th>\n",
              "      <th>drive</th>\n",
              "      <th>highwaympg</th>\n",
              "      <th>make</th>\n",
              "      <th>model</th>\n",
              "      <th>class</th>\n",
              "      <th>year</th>\n",
              "      <th>transmissiontype</th>\n",
              "      <th>transmissionspeeds</th>\n",
              "    </tr>\n",
              "  </thead>\n",
              "  <tbody>\n",
              "    <tr>\n",
              "      <th>0</th>\n",
              "      <td>14.0</td>\n",
              "      <td>6</td>\n",
              "      <td>4.1</td>\n",
              "      <td>2-Wheel Drive</td>\n",
              "      <td>19.0</td>\n",
              "      <td>Buick</td>\n",
              "      <td>Electra/Park Avenue</td>\n",
              "      <td>Large Cars</td>\n",
              "      <td>1984</td>\n",
              "      <td>Automatic</td>\n",
              "      <td>4</td>\n",
              "    </tr>\n",
              "    <tr>\n",
              "      <th>1</th>\n",
              "      <td>14.0</td>\n",
              "      <td>8</td>\n",
              "      <td>5.0</td>\n",
              "      <td>2-Wheel Drive</td>\n",
              "      <td>20.0</td>\n",
              "      <td>Buick</td>\n",
              "      <td>Electra/Park Avenue</td>\n",
              "      <td>Large Cars</td>\n",
              "      <td>1984</td>\n",
              "      <td>Automatic</td>\n",
              "      <td>4</td>\n",
              "    </tr>\n",
              "    <tr>\n",
              "      <th>2</th>\n",
              "      <td>18.0</td>\n",
              "      <td>8</td>\n",
              "      <td>5.7</td>\n",
              "      <td>2-Wheel Drive</td>\n",
              "      <td>26.0</td>\n",
              "      <td>Buick</td>\n",
              "      <td>Electra/Park Avenue</td>\n",
              "      <td>Large Cars</td>\n",
              "      <td>1984</td>\n",
              "      <td>Automatic</td>\n",
              "      <td>4</td>\n",
              "    </tr>\n",
              "    <tr>\n",
              "      <th>3</th>\n",
              "      <td>21.0</td>\n",
              "      <td>6</td>\n",
              "      <td>4.3</td>\n",
              "      <td>Rear-Wheel Drive</td>\n",
              "      <td>31.0</td>\n",
              "      <td>Cadillac</td>\n",
              "      <td>Fleetwood/DeVille (FWD)</td>\n",
              "      <td>Large Cars</td>\n",
              "      <td>1984</td>\n",
              "      <td>Automatic</td>\n",
              "      <td>4</td>\n",
              "    </tr>\n",
              "    <tr>\n",
              "      <th>4</th>\n",
              "      <td>14.0</td>\n",
              "      <td>8</td>\n",
              "      <td>4.1</td>\n",
              "      <td>Rear-Wheel Drive</td>\n",
              "      <td>19.0</td>\n",
              "      <td>Cadillac</td>\n",
              "      <td>Brougham/DeVille (RWD)</td>\n",
              "      <td>Large Cars</td>\n",
              "      <td>1984</td>\n",
              "      <td>Automatic</td>\n",
              "      <td>4</td>\n",
              "    </tr>\n",
              "  </tbody>\n",
              "</table>\n",
              "</div>\n",
              "      <button class=\"colab-df-convert\" onclick=\"convertToInteractive('df-8fba8dbd-95fb-4a08-8822-13a8e45146b6')\"\n",
              "              title=\"Convert this dataframe to an interactive table.\"\n",
              "              style=\"display:none;\">\n",
              "        \n",
              "  <svg xmlns=\"http://www.w3.org/2000/svg\" height=\"24px\"viewBox=\"0 0 24 24\"\n",
              "       width=\"24px\">\n",
              "    <path d=\"M0 0h24v24H0V0z\" fill=\"none\"/>\n",
              "    <path d=\"M18.56 5.44l.94 2.06.94-2.06 2.06-.94-2.06-.94-.94-2.06-.94 2.06-2.06.94zm-11 1L8.5 8.5l.94-2.06 2.06-.94-2.06-.94L8.5 2.5l-.94 2.06-2.06.94zm10 10l.94 2.06.94-2.06 2.06-.94-2.06-.94-.94-2.06-.94 2.06-2.06.94z\"/><path d=\"M17.41 7.96l-1.37-1.37c-.4-.4-.92-.59-1.43-.59-.52 0-1.04.2-1.43.59L10.3 9.45l-7.72 7.72c-.78.78-.78 2.05 0 2.83L4 21.41c.39.39.9.59 1.41.59.51 0 1.02-.2 1.41-.59l7.78-7.78 2.81-2.81c.8-.78.8-2.07 0-2.86zM5.41 20L4 18.59l7.72-7.72 1.47 1.35L5.41 20z\"/>\n",
              "  </svg>\n",
              "      </button>\n",
              "      \n",
              "  <style>\n",
              "    .colab-df-container {\n",
              "      display:flex;\n",
              "      flex-wrap:wrap;\n",
              "      gap: 12px;\n",
              "    }\n",
              "\n",
              "    .colab-df-convert {\n",
              "      background-color: #E8F0FE;\n",
              "      border: none;\n",
              "      border-radius: 50%;\n",
              "      cursor: pointer;\n",
              "      display: none;\n",
              "      fill: #1967D2;\n",
              "      height: 32px;\n",
              "      padding: 0 0 0 0;\n",
              "      width: 32px;\n",
              "    }\n",
              "\n",
              "    .colab-df-convert:hover {\n",
              "      background-color: #E2EBFA;\n",
              "      box-shadow: 0px 1px 2px rgba(60, 64, 67, 0.3), 0px 1px 3px 1px rgba(60, 64, 67, 0.15);\n",
              "      fill: #174EA6;\n",
              "    }\n",
              "\n",
              "    [theme=dark] .colab-df-convert {\n",
              "      background-color: #3B4455;\n",
              "      fill: #D2E3FC;\n",
              "    }\n",
              "\n",
              "    [theme=dark] .colab-df-convert:hover {\n",
              "      background-color: #434B5C;\n",
              "      box-shadow: 0px 1px 3px 1px rgba(0, 0, 0, 0.15);\n",
              "      filter: drop-shadow(0px 1px 2px rgba(0, 0, 0, 0.3));\n",
              "      fill: #FFFFFF;\n",
              "    }\n",
              "  </style>\n",
              "\n",
              "      <script>\n",
              "        const buttonEl =\n",
              "          document.querySelector('#df-8fba8dbd-95fb-4a08-8822-13a8e45146b6 button.colab-df-convert');\n",
              "        buttonEl.style.display =\n",
              "          google.colab.kernel.accessAllowed ? 'block' : 'none';\n",
              "\n",
              "        async function convertToInteractive(key) {\n",
              "          const element = document.querySelector('#df-8fba8dbd-95fb-4a08-8822-13a8e45146b6');\n",
              "          const dataTable =\n",
              "            await google.colab.kernel.invokeFunction('convertToInteractive',\n",
              "                                                     [key], {});\n",
              "          if (!dataTable) return;\n",
              "\n",
              "          const docLinkHtml = 'Like what you see? Visit the ' +\n",
              "            '<a target=\"_blank\" href=https://colab.research.google.com/notebooks/data_table.ipynb>data table notebook</a>'\n",
              "            + ' to learn more about interactive tables.';\n",
              "          element.innerHTML = '';\n",
              "          dataTable['output_type'] = 'display_data';\n",
              "          await google.colab.output.renderOutput(dataTable, element);\n",
              "          const docLink = document.createElement('div');\n",
              "          docLink.innerHTML = docLinkHtml;\n",
              "          element.appendChild(docLink);\n",
              "        }\n",
              "      </script>\n",
              "    </div>\n",
              "  </div>\n",
              "  "
            ]
          },
          "metadata": {},
          "execution_count": 27
        }
      ]
    },
    {
      "cell_type": "code",
      "source": [
        "#split data using Simple random sampling\n",
        "from sklearn.model_selection import train_test_split"
      ],
      "metadata": {
        "id": "c-nITCRWB001"
      },
      "execution_count": 29,
      "outputs": []
    },
    {
      "cell_type": "code",
      "source": [
        "x_train, x_test, y_train, y_test = train_test_split(x,y)"
      ],
      "metadata": {
        "id": "2_MENcnxCDck"
      },
      "execution_count": 30,
      "outputs": []
    },
    {
      "cell_type": "code",
      "source": [
        "x_train.shape"
      ],
      "metadata": {
        "colab": {
          "base_uri": "https://localhost:8080/"
        },
        "id": "RlmYEbCuCi6g",
        "outputId": "d870e7ab-10c4-4f3e-ece3-1b7b358f1d33"
      },
      "execution_count": 31,
      "outputs": [
        {
          "output_type": "execute_result",
          "data": {
            "text/plain": [
              "(27734, 11)"
            ]
          },
          "metadata": {},
          "execution_count": 31
        }
      ]
    },
    {
      "cell_type": "code",
      "source": [
        "x_test.shape"
      ],
      "metadata": {
        "colab": {
          "base_uri": "https://localhost:8080/"
        },
        "id": "A5MFU8MrCs8K",
        "outputId": "f70e6cd8-7b17-473c-cf39-abb16ad14c2e"
      },
      "execution_count": 33,
      "outputs": [
        {
          "output_type": "execute_result",
          "data": {
            "text/plain": [
              "(9245, 11)"
            ]
          },
          "metadata": {},
          "execution_count": 33
        }
      ]
    },
    {
      "cell_type": "code",
      "source": [
        "y_test.shape"
      ],
      "metadata": {
        "colab": {
          "base_uri": "https://localhost:8080/"
        },
        "id": "VUuqFBLzCxmA",
        "outputId": "93b52277-45db-4b58-93d8-1061fcc9e538"
      },
      "execution_count": 34,
      "outputs": [
        {
          "output_type": "execute_result",
          "data": {
            "text/plain": [
              "(9245, 1)"
            ]
          },
          "metadata": {},
          "execution_count": 34
        }
      ]
    },
    {
      "cell_type": "code",
      "source": [
        "y_train.shape"
      ],
      "metadata": {
        "colab": {
          "base_uri": "https://localhost:8080/"
        },
        "id": "NAzfFY77CoVQ",
        "outputId": "b777fe29-1c5a-40f9-c847-910b20bcad54"
      },
      "execution_count": 32,
      "outputs": [
        {
          "output_type": "execute_result",
          "data": {
            "text/plain": [
              "(27734, 1)"
            ]
          },
          "metadata": {},
          "execution_count": 32
        }
      ]
    },
    {
      "cell_type": "code",
      "source": [
        "x_train, x_test, y_train, y_test = train_test_split(x,y,test_size = 0.4 )\n",
        "x_test.shape"
      ],
      "metadata": {
        "colab": {
          "base_uri": "https://localhost:8080/"
        },
        "id": "sDXPnRPqC5tC",
        "outputId": "415a8222-882f-4e20-ef2d-34c5fbafff27"
      },
      "execution_count": 36,
      "outputs": [
        {
          "output_type": "execute_result",
          "data": {
            "text/plain": [
              "(14792, 11)"
            ]
          },
          "metadata": {},
          "execution_count": 36
        }
      ]
    },
    {
      "cell_type": "code",
      "source": [
        "#split using startified random sampling\n",
        "x_train, x_test, y_train, y_test = train_test_split(x,y,test_size = 0.01,random_state = 1234)"
      ],
      "metadata": {
        "id": "5Jgsi3bKDfWj"
      },
      "execution_count": 37,
      "outputs": []
    },
    {
      "cell_type": "code",
      "source": [
        "x['drive'].value_counts(normalize = True)"
      ],
      "metadata": {
        "colab": {
          "base_uri": "https://localhost:8080/"
        },
        "id": "GlxWba0MD-nT",
        "outputId": "09516377-b7c7-430a-8d80-49de2594eecb"
      },
      "execution_count": 38,
      "outputs": [
        {
          "output_type": "execute_result",
          "data": {
            "text/plain": [
              "Rear-Wheel Drive     0.356797\n",
              "Front-Wheel Drive    0.353552\n",
              "All-Wheel Drive      0.239893\n",
              "4-Wheel Drive        0.036480\n",
              "2-Wheel Drive        0.013278\n",
              "Name: drive, dtype: float64"
            ]
          },
          "metadata": {},
          "execution_count": 38
        }
      ]
    },
    {
      "cell_type": "code",
      "source": [
        "x_test['drive'].value_counts(normalize = True)"
      ],
      "metadata": {
        "colab": {
          "base_uri": "https://localhost:8080/"
        },
        "id": "Ca2zEXrBEMnT",
        "outputId": "88418ad8-5529-4f06-e753-abb1ad21fded"
      },
      "execution_count": 39,
      "outputs": [
        {
          "output_type": "execute_result",
          "data": {
            "text/plain": [
              "Front-Wheel Drive    0.364865\n",
              "Rear-Wheel Drive     0.332432\n",
              "All-Wheel Drive      0.248649\n",
              "4-Wheel Drive        0.035135\n",
              "2-Wheel Drive        0.018919\n",
              "Name: drive, dtype: float64"
            ]
          },
          "metadata": {},
          "execution_count": 39
        }
      ]
    },
    {
      "cell_type": "code",
      "source": [
        "x_train, x_test, y_train, y_test = train_test_split(x,y,\n",
        "                                                    test_size = 0.01,\n",
        "                                                    random_state = 1234,\n",
        "                                                    stratify=x['drive'])"
      ],
      "metadata": {
        "id": "upV6zcePEeZq"
      },
      "execution_count": 41,
      "outputs": []
    },
    {
      "cell_type": "code",
      "source": [
        "x_test['drive'].value_counts(normalize = True)"
      ],
      "metadata": {
        "colab": {
          "base_uri": "https://localhost:8080/"
        },
        "id": "rtnOMkbwE2Of",
        "outputId": "4f7ac2a4-235b-4b65-f453-2dad70b1604f"
      },
      "execution_count": 42,
      "outputs": [
        {
          "output_type": "execute_result",
          "data": {
            "text/plain": [
              "Rear-Wheel Drive     0.356757\n",
              "Front-Wheel Drive    0.354054\n",
              "All-Wheel Drive      0.240541\n",
              "4-Wheel Drive        0.035135\n",
              "2-Wheel Drive        0.013514\n",
              "Name: drive, dtype: float64"
            ]
          },
          "metadata": {},
          "execution_count": 42
        }
      ]
    }
  ]
}